{
 "cells": [
  {
   "cell_type": "code",
   "execution_count": 2,
   "id": "dc1c9710",
   "metadata": {},
   "outputs": [],
   "source": [
    "import findspark\n",
    "findspark.init()"
   ]
  },
  {
   "cell_type": "code",
   "execution_count": 3,
   "id": "ba8e4f6b",
   "metadata": {},
   "outputs": [],
   "source": [
    "import pyspark\n",
    "from pyspark.sql import SparkSession\n",
    "spark = SparkSession.builder.getOrCreate()"
   ]
  },
  {
   "cell_type": "code",
   "execution_count": 4,
   "id": "144a1571",
   "metadata": {},
   "outputs": [
    {
     "name": "stdout",
     "output_type": "stream",
     "text": [
      "+-----+\n",
      "|hello|\n",
      "+-----+\n",
      "|spark|\n",
      "+-----+\n",
      "\n"
     ]
    }
   ],
   "source": [
    "df = spark.sql(\"select 'spark' as hello\")\n",
    "df.show()"
   ]
  },
  {
   "cell_type": "code",
   "execution_count": 131,
   "id": "65266805",
   "metadata": {},
   "outputs": [
    {
     "name": "stdout",
     "output_type": "stream",
     "text": [
      "+------+------+------+---+-------+-------+\n",
      "|   _c0|   _c1|   _c2|_c3|    _c4|    _c5|\n",
      "+------+------+------+---+-------+-------+\n",
      "|Number|  City|Gender|Age| Income|Illness|\n",
      "|     1|Dallas|  Male| 41|40367.0|     No|\n",
      "|     2|Dallas|  Male| 54|45084.0|     No|\n",
      "|     3|Dallas|  Male| 42|52483.0|     No|\n",
      "|     4|Dallas|  Male| 40|40941.0|     No|\n",
      "|     5|Dallas|  Male| 46|50289.0|     No|\n",
      "|     6|Dallas|Female| 36|50786.0|     No|\n",
      "|     7|Dallas|Female| 32|33155.0|     No|\n",
      "|     8|Dallas|  Male| 39|30914.0|     No|\n",
      "|     9|Dallas|  Male| 51|68667.0|     No|\n",
      "|    10|Dallas|Female| 30|50082.0|     No|\n",
      "|    11|Dallas|Female| 48|41524.0|    Yes|\n",
      "|    12|Dallas|  Male| 47|54777.0|     No|\n",
      "|    13|Dallas|  Male| 46|62749.0|     No|\n",
      "|    14|Dallas|Female| 42|50894.0|     No|\n",
      "|    15|Dallas|Female| 61|38429.0|     No|\n",
      "|    16|Dallas|  Male| 43|34074.0|     No|\n",
      "|    17|Dallas|  Male| 27|50398.0|     No|\n",
      "|    18|Dallas|  Male| 38|46373.0|    Yes|\n",
      "|    19|Dallas|  Male| 47|51137.0|     No|\n",
      "+------+------+------+---+-------+-------+\n",
      "only showing top 20 rows\n",
      "\n"
     ]
    }
   ],
   "source": [
    "df = spark.read.csv(\"toy_dataset.csv\")\n",
    "df.show()"
   ]
  },
  {
   "cell_type": "code",
   "execution_count": 132,
   "id": "2ddffcca",
   "metadata": {},
   "outputs": [
    {
     "name": "stdout",
     "output_type": "stream",
     "text": [
      "root\n",
      " |-- _c0: string (nullable = true)\n",
      " |-- _c1: string (nullable = true)\n",
      " |-- _c2: string (nullable = true)\n",
      " |-- _c3: string (nullable = true)\n",
      " |-- _c4: string (nullable = true)\n",
      " |-- _c5: string (nullable = true)\n",
      "\n"
     ]
    }
   ],
   "source": [
    "df.printSchema()"
   ]
  },
  {
   "cell_type": "code",
   "execution_count": 133,
   "id": "b54e40d0",
   "metadata": {},
   "outputs": [
    {
     "name": "stdout",
     "output_type": "stream",
     "text": [
      "root\n",
      " |-- Number: integer (nullable = true)\n",
      " |-- City: string (nullable = true)\n",
      " |-- Gender: string (nullable = true)\n",
      " |-- Age: integer (nullable = true)\n",
      " |-- Income: double (nullable = true)\n",
      " |-- Illness: string (nullable = true)\n",
      "\n"
     ]
    }
   ],
   "source": [
    "df = spark.read.csv(\"toy_dataset.csv\", inferSchema = True, header = True)\n",
    "df.printSchema()"
   ]
  },
  {
   "cell_type": "code",
   "execution_count": 11,
   "id": "dc64008d",
   "metadata": {},
   "outputs": [
    {
     "data": {
      "text/plain": [
       "150000"
      ]
     },
     "execution_count": 11,
     "metadata": {},
     "output_type": "execute_result"
    }
   ],
   "source": [
    "df.count()"
   ]
  },
  {
   "cell_type": "code",
   "execution_count": 12,
   "id": "bdb0d1fb",
   "metadata": {},
   "outputs": [
    {
     "data": {
      "text/plain": [
       "83800"
      ]
     },
     "execution_count": 12,
     "metadata": {},
     "output_type": "execute_result"
    }
   ],
   "source": [
    "df.where(df.Gender == \"Male\").count()"
   ]
  },
  {
   "cell_type": "code",
   "execution_count": 130,
   "id": "3589b30e",
   "metadata": {},
   "outputs": [
    {
     "name": "stdout",
     "output_type": "stream",
     "text": [
      "root\n",
      " |-- _c0: string (nullable = true)\n",
      " |-- _c1: string (nullable = true)\n",
      " |-- _c2: string (nullable = true)\n",
      " |-- _c3: string (nullable = true)\n",
      " |-- _c4: string (nullable = true)\n",
      " |-- _c5: string (nullable = true)\n",
      " |-- _c6: string (nullable = true)\n",
      " |-- _c7: string (nullable = true)\n",
      " |-- _c8: string (nullable = true)\n",
      " |-- _c9: string (nullable = true)\n",
      " |-- _c10: string (nullable = true)\n",
      " |-- _c11: string (nullable = true)\n",
      " |-- _c12: string (nullable = true)\n",
      " |-- _c13: string (nullable = true)\n",
      " |-- _c14: string (nullable = true)\n",
      " |-- _c15: string (nullable = true)\n",
      " |-- _c16: string (nullable = true)\n",
      " |-- _c17: string (nullable = true)\n",
      " |-- _c18: string (nullable = true)\n",
      " |-- _c19: string (nullable = true)\n",
      " |-- _c20: string (nullable = true)\n",
      " |-- _c21: string (nullable = true)\n",
      " |-- _c22: string (nullable = true)\n",
      " |-- _c23: string (nullable = true)\n",
      " |-- _c24: string (nullable = true)\n",
      " |-- _c25: string (nullable = true)\n",
      " |-- _c26: string (nullable = true)\n",
      " |-- _c27: string (nullable = true)\n",
      " |-- _c28: string (nullable = true)\n",
      " |-- _c29: string (nullable = true)\n",
      " |-- _c30: string (nullable = true)\n",
      " |-- _c31: string (nullable = true)\n",
      " |-- _c32: string (nullable = true)\n",
      " |-- _c33: string (nullable = true)\n",
      " |-- _c34: string (nullable = true)\n",
      " |-- _c35: string (nullable = true)\n",
      " |-- _c36: string (nullable = true)\n",
      " |-- _c37: string (nullable = true)\n",
      " |-- _c38: string (nullable = true)\n",
      " |-- _c39: string (nullable = true)\n",
      " |-- _c40: string (nullable = true)\n",
      "\n"
     ]
    }
   ],
   "source": [
    "df2 = df.sample(0.01)"
   ]
  },
  {
   "cell_type": "code",
   "execution_count": 14,
   "id": "0fb3ee56",
   "metadata": {},
   "outputs": [
    {
     "name": "stdout",
     "output_type": "stream",
     "text": [
      "+---------------+-----+\n",
      "|           City|count|\n",
      "+---------------+-----+\n",
      "|         Dallas|19707|\n",
      "|    Los Angeles|32173|\n",
      "|      San Diego| 4881|\n",
      "|         Austin|12292|\n",
      "|  New York City|50307|\n",
      "|Washington D.C.| 8120|\n",
      "|  Mountain View|14219|\n",
      "|         Boston| 8301|\n",
      "+---------------+-----+\n",
      "\n"
     ]
    }
   ],
   "source": [
    "df.groupBy(\"City\").count().show()"
   ]
  },
  {
   "cell_type": "code",
   "execution_count": 15,
   "id": "65ab294e",
   "metadata": {},
   "outputs": [
    {
     "data": {
      "text/plain": [
       "8"
      ]
     },
     "execution_count": 15,
     "metadata": {},
     "output_type": "execute_result"
    }
   ],
   "source": [
    "df.groupBy(\"City\").count().count()"
   ]
  },
  {
   "cell_type": "code",
   "execution_count": 22,
   "id": "95681289",
   "metadata": {},
   "outputs": [
    {
     "name": "stdout",
     "output_type": "stream",
     "text": [
      "Ill:  12139\n",
      "Not Ill:  137861\n"
     ]
    }
   ],
   "source": [
    "print(\"Ill: \", df.where(df.Illness == \"Yes\").count())\n",
    "print(\"Not Ill: \", df.where(df.Illness == \"No\").count())"
   ]
  },
  {
   "cell_type": "code",
   "execution_count": 24,
   "id": "2ff8ce8e",
   "metadata": {},
   "outputs": [
    {
     "name": "stdout",
     "output_type": "stream",
     "text": [
      "+-------+------+\n",
      "|Illness| count|\n",
      "+-------+------+\n",
      "|     No|137861|\n",
      "|    Yes| 12139|\n",
      "+-------+------+\n",
      "\n"
     ]
    }
   ],
   "source": [
    "df2 = df.groupBy(\"Illness\").count().show()"
   ]
  },
  {
   "cell_type": "code",
   "execution_count": 35,
   "id": "77c10de9",
   "metadata": {},
   "outputs": [
    {
     "name": "stdout",
     "output_type": "stream",
     "text": [
      "137861\n",
      "<class 'pyspark.sql.types.Row'>\n"
     ]
    }
   ],
   "source": [
    "df2 = df.groupBy(\"Illness\").count()\n",
    "rows = df2.select(\"count\").collect()\n",
    "\n",
    "print(rows[0][0])\n",
    "print(type(rows[0]))"
   ]
  },
  {
   "cell_type": "code",
   "execution_count": 58,
   "id": "cdc7ea27",
   "metadata": {},
   "outputs": [
    {
     "name": "stdout",
     "output_type": "stream",
     "text": [
      "150000\n",
      "Male  55.86666666666667 + Female  44.13333333333333  =  100.0\n",
      "Total: 83800 + 66200 = 150000\n"
     ]
    }
   ],
   "source": [
    "male_num = df.where(df.Gender == \"Male\").count()\n",
    "female_num = df.where(df.Gender == \"Female\").count()\n",
    "total = male_num + female_num\n",
    "print(total)\n",
    "male_percent = male_num/total*100\n",
    "female_percent = female_num/total*100\n",
    "print(\"Male \", male_percent, \"+ Female \", female_percent, \" = \", male_percent + female_percent)\n",
    "print(\"Total: {} + {} = {}\".format(male_num, female_num, total))"
   ]
  },
  {
   "cell_type": "code",
   "execution_count": 62,
   "id": "7cf39a00",
   "metadata": {},
   "outputs": [
    {
     "name": "stdout",
     "output_type": "stream",
     "text": [
      "+------+-----+\n",
      "|Gender|count|\n",
      "+------+-----+\n",
      "|Female| 5331|\n",
      "|  Male| 6808|\n",
      "+------+-----+\n",
      "\n"
     ]
    }
   ],
   "source": [
    "df2 = df.where(df.Illness==\"Yes\").groupBy(df.Gender).count()\n",
    "df2.show()"
   ]
  },
  {
   "cell_type": "code",
   "execution_count": 69,
   "id": "0a7bc301",
   "metadata": {},
   "outputs": [
    {
     "name": "stdout",
     "output_type": "stream",
     "text": [
      "+---------------+-----+\n",
      "|           City|count|\n",
      "+---------------+-----+\n",
      "|  New York City| 4021|\n",
      "|    Los Angeles| 2568|\n",
      "|         Dallas| 1613|\n",
      "|  Mountain View| 1178|\n",
      "|         Austin| 1011|\n",
      "|         Boston|  686|\n",
      "|Washington D.C.|  668|\n",
      "|      San Diego|  394|\n",
      "+---------------+-----+\n",
      "\n"
     ]
    },
    {
     "data": {
      "text/plain": [
       "[Row(City='New York City', count=4021)]"
      ]
     },
     "execution_count": 69,
     "metadata": {},
     "output_type": "execute_result"
    }
   ],
   "source": [
    "from pyspark.sql.functions import col, asc,desc\n",
    "df2 = df.where(df.Illness==\"Yes\").groupBy(df.City).count().sort(col(\"count\").desc())\n",
    "df2.show()\n",
    "df2.take(1)"
   ]
  },
  {
   "cell_type": "code",
   "execution_count": 71,
   "id": "b9489da8",
   "metadata": {},
   "outputs": [],
   "source": [
    "from pyspark.sql.functions import mean"
   ]
  },
  {
   "cell_type": "code",
   "execution_count": 73,
   "id": "5f706c2e",
   "metadata": {},
   "outputs": [
    {
     "name": "stdout",
     "output_type": "stream",
     "text": [
      "+----------------+\n",
      "|     avg(Income)|\n",
      "+----------------+\n",
      "|91277.8753604086|\n",
      "+----------------+\n",
      "\n"
     ]
    }
   ],
   "source": [
    "df2 = df.where(df.Illness==\"Yes\").select(mean(\"Income\")).show()"
   ]
  },
  {
   "cell_type": "code",
   "execution_count": 75,
   "id": "a70d47f4",
   "metadata": {},
   "outputs": [
    {
     "name": "stdout",
     "output_type": "stream",
     "text": [
      "+-------------------+\n",
      "|Mean Healthy Income|\n",
      "+-------------------+\n",
      "|  91250.59017416093|\n",
      "+-------------------+\n",
      "\n"
     ]
    }
   ],
   "source": [
    "df2 = df.where(df.Illness==\"No\").select(mean(\"Income\")).withColumnRenamed(\"avg(Income)\", \"Mean Healthy Income\").show()"
   ]
  },
  {
   "cell_type": "code",
   "execution_count": 81,
   "id": "668348db",
   "metadata": {},
   "outputs": [
    {
     "name": "stdout",
     "output_type": "stream",
     "text": [
      "-RECORD 0--------------------------------\n",
      " Mean Ill Income     | 91277.8753604086  \n",
      " Mean Healthy Income | 91250.59017416093 \n",
      "\n"
     ]
    }
   ],
   "source": [
    "avgIll = df.where(df.Illness==\"Yes\").select(mean(\"Income\")).withColumnRenamed(\"avg(Income)\", \"Mean Ill Income\")\n",
    "avgHealthy = df.where(df.Illness==\"No\").select(mean(\"Income\")).withColumnRenamed(\"avg(Income)\", \"Mean Healthy Income\")\n",
    "avgIll.join(avgHealthy).show(vertical=True)"
   ]
  },
  {
   "cell_type": "code",
   "execution_count": 84,
   "id": "3a5c4623",
   "metadata": {},
   "outputs": [
    {
     "name": "stdout",
     "output_type": "stream",
     "text": [
      "+-------------------------+\n",
      "|Average Age of Ill People|\n",
      "+-------------------------+\n",
      "|        45.02084191449048|\n",
      "+-------------------------+\n",
      "\n"
     ]
    }
   ],
   "source": [
    "ageIll = df.where(df.Illness==\"Yes\").select(mean(\"Age\")).withColumnRenamed(\"avg(Age)\", \"Average Age of Ill People\").show()"
   ]
  },
  {
   "cell_type": "code",
   "execution_count": 87,
   "id": "8461ad18",
   "metadata": {},
   "outputs": [
    {
     "name": "stdout",
     "output_type": "stream",
     "text": [
      "+-------+------------------+\n",
      "|summary|               Age|\n",
      "+-------+------------------+\n",
      "|  count|             12139|\n",
      "|   mean| 45.02084191449048|\n",
      "| stddev|11.554129904969162|\n",
      "|    min|                25|\n",
      "|    25%|                35|\n",
      "|    50%|                45|\n",
      "|    75%|                55|\n",
      "|    max|                65|\n",
      "+-------+------------------+\n",
      "\n"
     ]
    }
   ],
   "source": [
    "ageIll = df.where(df.Illness==\"Yes\").select(\"Age\").withColumnRenamed(\"avg(Age)\", \"Average Age of Ill People\").summary().show()"
   ]
  },
  {
   "cell_type": "code",
   "execution_count": 118,
   "id": "0d5611d3",
   "metadata": {},
   "outputs": [
    {
     "name": "stdout",
     "output_type": "stream",
     "text": [
      "Row(City='Dallas', Age=65)\n"
     ]
    }
   ],
   "source": [
    "ill = df.where(df.Illness==\"No\").select(\"City\", \"Age\").sort(col(\"Age\").desc()).collect()\n",
    "print(ill[0])"
   ]
  },
  {
   "cell_type": "code",
   "execution_count": 124,
   "id": "61e47470",
   "metadata": {},
   "outputs": [
    {
     "name": "stdout",
     "output_type": "stream",
     "text": [
      "+--------+\n",
      "|max(Age)|\n",
      "+--------+\n",
      "|      65|\n",
      "+--------+\n",
      "\n"
     ]
    }
   ],
   "source": [
    "from pyspark.sql.functions import max\n",
    "df.select(max(\"Age\")).show()"
   ]
  },
  {
   "cell_type": "code",
   "execution_count": 138,
   "id": "9db03fe5",
   "metadata": {},
   "outputs": [
    {
     "name": "stdout",
     "output_type": "stream",
     "text": [
      "root\n",
      " |-- X: double (nullable = true)\n",
      " |-- Y: double (nullable = true)\n",
      " |-- OBJECTID: integer (nullable = true)\n",
      " |-- ID: integer (nullable = true)\n",
      " |-- NAME: string (nullable = true)\n",
      " |-- ADDRESS: string (nullable = true)\n",
      " |-- CITY: string (nullable = true)\n",
      " |-- STATE: string (nullable = true)\n",
      " |-- ZIP: integer (nullable = true)\n",
      " |-- COUNTY: string (nullable = true)\n",
      " |-- PHONE: string (nullable = true)\n",
      " |-- ADMIN: string (nullable = true)\n",
      " |-- FIRST_BUIL: integer (nullable = true)\n",
      " |-- LAST_BUILT: integer (nullable = true)\n",
      " |-- AGE: integer (nullable = true)\n",
      " |-- MSHDA: integer (nullable = true)\n",
      " |-- LIHTC: integer (nullable = true)\n",
      " |-- MARKET: integer (nullable = true)\n",
      " |-- RAP: integer (nullable = true)\n",
      " |-- SEC_515_UN: integer (nullable = true)\n",
      " |-- SEC_202_UN: integer (nullable = true)\n",
      " |-- BARRIER_FR: integer (nullable = true)\n",
      " |-- REHAB_CHOI: integer (nullable = true)\n",
      " |-- PUBLIC_HSG: integer (nullable = true)\n",
      " |-- SEC_221D3_: integer (nullable = true)\n",
      " |-- SEC_236_UN: integer (nullable = true)\n",
      " |-- SEC_8_UNIT: integer (nullable = true)\n",
      " |-- RS_UNITS: integer (nullable = true)\n",
      " |-- SPECIAL_HS: integer (nullable = true)\n",
      " |-- ELD_EFF: integer (nullable = true)\n",
      " |-- ELD_1BR: integer (nullable = true)\n",
      " |-- ELD_2BR: integer (nullable = true)\n",
      " |-- ELD_3BR: integer (nullable = true)\n",
      " |-- ELD_4BR: integer (nullable = true)\n",
      " |-- ELD_TOT: integer (nullable = true)\n",
      " |-- FAM_EFF: integer (nullable = true)\n",
      " |-- FAM_1BR: integer (nullable = true)\n",
      " |-- FAM_2BR: integer (nullable = true)\n",
      " |-- FAM_3BR: integer (nullable = true)\n",
      " |-- FAM_4BR: integer (nullable = true)\n",
      " |-- FAM_TOT: integer (nullable = true)\n",
      "\n"
     ]
    }
   ],
   "source": [
    "df3 = spark.read.csv(\"Subsidized_Housing.csv\", inferSchema = True, header = True)\n",
    "df3.printSchema()"
   ]
  },
  {
   "cell_type": "code",
   "execution_count": 148,
   "id": "85a1145e",
   "metadata": {},
   "outputs": [
    {
     "name": "stdout",
     "output_type": "stream",
     "text": [
      "-RECORD 0--------------------------\n",
      " Name       | Orion Four Seasons   \n",
      " Address    | Baldwin Road         \n",
      " City       | Orion Twp            \n",
      " State      | MI                   \n",
      " Zip        | 0                    \n",
      " County     | Oakland              \n",
      " Phone      |                      \n",
      " Admin      | MSHDA                \n",
      " FIRST_BUIL | 2002                 \n",
      " LAST_BUILT | 2002                 \n",
      " Age        | 9                    \n",
      "-RECORD 1--------------------------\n",
      " Name       | Island Woods         \n",
      " Address    | Gray's Drive         \n",
      " City       | Grosse Ile           \n",
      " State      | MI                   \n",
      " Zip        | 48138                \n",
      " County     | Wayne                \n",
      " Phone      | (734)476-8029        \n",
      " Admin      | MSHDA                \n",
      " FIRST_BUIL | 2002                 \n",
      " LAST_BUILT | 2002                 \n",
      " Age        | 9                    \n",
      "-RECORD 2--------------------------\n",
      " Name       | Flint Hsg Commission \n",
      " Address    | Scattered Sites      \n",
      " City       | Flint                \n",
      " State      | MI                   \n",
      " Zip        | 0                    \n",
      " County     | Genesee              \n",
      " Phone      | (810)736-3050        \n",
      " Admin      | Public Housing       \n",
      " FIRST_BUIL | 1968                 \n",
      " LAST_BUILT | 1970                 \n",
      " Age        | 41                   \n",
      "-RECORD 3--------------------------\n",
      " Name       | Pittman Memorial     \n",
      " Address    | Wilkins & Chene S... \n",
      " City       | Detroit              \n",
      " State      | MI                   \n",
      " Zip        | 48207                \n",
      " County     | Wayne                \n",
      " Phone      |                      \n",
      " Admin      | Other                \n",
      " FIRST_BUIL | 0                    \n",
      " LAST_BUILT | 0                    \n",
      " Age        | 0                    \n",
      "-RECORD 4--------------------------\n",
      " Name       | Rademaker Lodge      \n",
      " Address    |                      \n",
      " City       | Detroit              \n",
      " State      | MI                   \n",
      " Zip        | 0                    \n",
      " County     | Wayne                \n",
      " Phone      |                      \n",
      " Admin      | HUD                  \n",
      " FIRST_BUIL | 0                    \n",
      " LAST_BUILT | 0                    \n",
      " Age        | 0                    \n",
      "-RECORD 5--------------------------\n",
      " Name       | Rolling Brook Apt... \n",
      " Address    | 1500 Fruit St        \n",
      " City       | Algonac              \n",
      " State      | MI                   \n",
      " Zip        | 48001                \n",
      " County     | St. Clair            \n",
      " Phone      | (810)794-2440        \n",
      " Admin      | Rural Housing        \n",
      " FIRST_BUIL | 1992                 \n",
      " LAST_BUILT | 1992                 \n",
      " Age        | 19                   \n",
      "-RECORD 6--------------------------\n",
      " Name       | Rolling Brook Apts   \n",
      " Address    | 1885 Fruit Street    \n",
      " City       | Algonac              \n",
      " State      | MI                   \n",
      " Zip        | 48001                \n",
      " County     | St. Clair            \n",
      " Phone      | (810)794-2440        \n",
      " Admin      | Rural Housing        \n",
      " FIRST_BUIL | 1984                 \n",
      " LAST_BUILT | 1984                 \n",
      " Age        | 27                   \n",
      "-RECORD 7--------------------------\n",
      " Name       | Rolling Brook Apt... \n",
      " Address    | 1885 Fruit Street    \n",
      " City       | Algonac              \n",
      " State      | MI                   \n",
      " Zip        | 48001                \n",
      " County     | St. Clair            \n",
      " Phone      | (810)794-2440        \n",
      " Admin      | Rural Housing        \n",
      " FIRST_BUIL | 1990                 \n",
      " LAST_BUILT | 1990                 \n",
      " Age        | 21                   \n",
      "-RECORD 8--------------------------\n",
      " Name       | Plaza Towers Apts    \n",
      " Address    | 580 N Main St        \n",
      " City       | Almont               \n",
      " State      | MI                   \n",
      " Zip        | 48003                \n",
      " County     | Lapeer               \n",
      " Phone      | (810)798-3370        \n",
      " Admin      | Rural Housing        \n",
      " FIRST_BUIL | 0                    \n",
      " LAST_BUILT | 0                    \n",
      " Age        | 0                    \n",
      "-RECORD 9--------------------------\n",
      " Name       | Baldwin House        \n",
      " Address    | 200 Chester St       \n",
      " City       | Birmingham           \n",
      " State      | MI                   \n",
      " Zip        | 48009                \n",
      " County     | Oakland              \n",
      " Phone      | (248)540-4555        \n",
      " Admin      | MSHDA                \n",
      " FIRST_BUIL | 1993                 \n",
      " LAST_BUILT | 1993                 \n",
      " Age        | 18                   \n",
      "-RECORD 10-------------------------\n",
      " Name       | Wilshire, The        \n",
      " Address    | 388 W. Grand Blvd    \n",
      " City       | Detroit              \n",
      " State      | MI                   \n",
      " Zip        | 48009                \n",
      " County     | Wayne                \n",
      " Phone      | (517)799-9667        \n",
      " Admin      | Other                \n",
      " FIRST_BUIL | 0                    \n",
      " LAST_BUILT | 0                    \n",
      " Age        | 0                    \n",
      "-RECORD 11-------------------------\n",
      " Name       | Matteson Street A... \n",
      " Address    | 130 Matteson Street  \n",
      " City       | Capac                \n",
      " State      | MI                   \n",
      " Zip        | 48014                \n",
      " County     | St. Clair            \n",
      " Phone      | (810)395-2698        \n",
      " Admin      | Rural Housing        \n",
      " FIRST_BUIL | 1992                 \n",
      " LAST_BUILT | 1993                 \n",
      " Age        | 18                   \n",
      "-RECORD 12-------------------------\n",
      " Name       | Glencrest Apts I     \n",
      " Address    | 1522 Park Street     \n",
      " City       | Capac                \n",
      " State      | MI                   \n",
      " Zip        | 48014                \n",
      " County     | St. Clair            \n",
      " Phone      | (810)395-4549        \n",
      " Admin      | Rural Housing        \n",
      " FIRST_BUIL | 1982                 \n",
      " LAST_BUILT | 1983                 \n",
      " Age        | 28                   \n",
      "-RECORD 13-------------------------\n",
      " Name       | Glencrest Apts Ii    \n",
      " Address    | 1522 Park Street     \n",
      " City       | Capac                \n",
      " State      | MI                   \n",
      " Zip        | 48014                \n",
      " County     | St. Clair            \n",
      " Phone      | (810)395-4549        \n",
      " Admin      | Rural Housing        \n",
      " FIRST_BUIL | 1987                 \n",
      " LAST_BUILT | 1987                 \n",
      " Age        | 24                   \n",
      "-RECORD 14-------------------------\n",
      " Name       | Lawrence Park        \n",
      " Address    | 7000 10 Mile         \n",
      " City       | Center Line          \n",
      " State      | MI                   \n",
      " Zip        | 48015                \n",
      " County     | Macomb               \n",
      " Phone      | (586)757-0502        \n",
      " Admin      | MSHDA                \n",
      " FIRST_BUIL | 1982                 \n",
      " LAST_BUILT | 1982                 \n",
      " Age        | 29                   \n",
      "-RECORD 15-------------------------\n",
      " Name       | Center Line Park ... \n",
      " Address    | 8033 10 Mile Road    \n",
      " City       | Center Line          \n",
      " State      | MI                   \n",
      " Zip        | 48015                \n",
      " County     | Macomb               \n",
      " Phone      | (586)755-2270        \n",
      " Admin      | MSHDA                \n",
      " FIRST_BUIL | 1976                 \n",
      " LAST_BUILT | 2006                 \n",
      " Age        | 5                    \n",
      "-RECORD 16-------------------------\n",
      " Name       | Dunn Family Sr. Cit. \n",
      " Address    | 8400 Engleman        \n",
      " City       | Center Line          \n",
      " State      | MI                   \n",
      " Zip        | 48015                \n",
      " County     | Macomb               \n",
      " Phone      | (586)756-3322        \n",
      " Admin      | HUD                  \n",
      " FIRST_BUIL | 1970                 \n",
      " LAST_BUILT | 1971                 \n",
      " Age        | 40                   \n",
      "-RECORD 17-------------------------\n",
      " Name       | Clawson Manor        \n",
      " Address    | 255 W 14 Mile Rd     \n",
      " City       | Clawson              \n",
      " State      | MI                   \n",
      " Zip        | 48017                \n",
      " County     | Oakland              \n",
      " Phone      | (248)435-5650        \n",
      " Admin      | HUD                  \n",
      " FIRST_BUIL | 1970                 \n",
      " LAST_BUILT | 1970                 \n",
      " Age        | 41                   \n",
      "-RECORD 18-------------------------\n",
      " Name       | Detroit Baptist M... \n",
      " Address    | 23200 Drake Road     \n",
      " City       | Farmington Hills     \n",
      " State      | MI                   \n",
      " Zip        | 48018                \n",
      " County     | Oakland              \n",
      " Phone      | (248)626-6100        \n",
      " Admin      | HUD                  \n",
      " FIRST_BUIL | 1976                 \n",
      " LAST_BUILT | 1976                 \n",
      " Age        | 35                   \n",
      "-RECORD 19-------------------------\n",
      " Name       | Detroit Baptist M... \n",
      " Address    | 30239 13 Mile        \n",
      " City       | Farmington Hills     \n",
      " State      | MI                   \n",
      " Zip        | 48018                \n",
      " County     | Oakland              \n",
      " Phone      | (248)626-6100        \n",
      " Admin      | HUD                  \n",
      " FIRST_BUIL | 1978                 \n",
      " LAST_BUILT | 1978                 \n",
      " Age        | 33                   \n",
      "only showing top 20 rows\n",
      "\n"
     ]
    }
   ],
   "source": [
    "df3.select(\"Name\", \"Address\", \"City\", \"State\", \"Zip\", \"County\", \"Phone\", \"Admin\", \"FIRST_BUIL\", \"LAST_BUILT\", \"Age\").show(vertical=True)"
   ]
  },
  {
   "cell_type": "code",
   "execution_count": 155,
   "id": "522fba72",
   "metadata": {},
   "outputs": [
    {
     "name": "stdout",
     "output_type": "stream",
     "text": [
      "+--------------------+---+\n",
      "|                Name|Age|\n",
      "+--------------------+---+\n",
      "|          Field Apts| 88|\n",
      "|      Lee Crest Apts| 81|\n",
      "|   Seventy West Apts| 79|\n",
      "|Parkside Homes An...| 73|\n",
      "|   Colonel Hamtramck| 70|\n",
      "|     Sojourner Truth| 69|\n",
      "|        Ryan Ct Apts| 66|\n",
      "|    West Boston Apts| 61|\n",
      "|   Northlawn Gardens| 56|\n",
      "|     Voisine Terrace| 53|\n",
      "|       Wayne Housing| 52|\n",
      "|    Le Moyng Gardens| 52|\n",
      "|         Sky Harbour| 51|\n",
      "|     Rochester Manor| 51|\n",
      "|    Parklane Th Coop| 51|\n",
      "|  Clemens Homes 28-1| 50|\n",
      "|    Broadway Terrace| 49|\n",
      "|      Rochdale Court| 49|\n",
      "|       Lurie Terrace| 49|\n",
      "|    Wade Mcree Plaza| 49|\n",
      "+--------------------+---+\n",
      "only showing top 20 rows\n",
      "\n"
     ]
    }
   ],
   "source": [
    "df3.select(\"Name\", \"Age\").sort(col(\"Age\").desc()).show()"
   ]
  },
  {
   "cell_type": "code",
   "execution_count": 171,
   "id": "3bcd1328",
   "metadata": {},
   "outputs": [
    {
     "name": "stdout",
     "output_type": "stream",
     "text": [
      "root\n",
      " |-- data: struct (nullable = true)\n",
      " |    |-- 1880: string (nullable = true)\n",
      " |    |-- 1881: string (nullable = true)\n",
      " |    |-- 1882: string (nullable = true)\n",
      " |    |-- 1883: string (nullable = true)\n",
      " |    |-- 1884: string (nullable = true)\n",
      " |    |-- 1885: string (nullable = true)\n",
      " |    |-- 1886: string (nullable = true)\n",
      " |    |-- 1887: string (nullable = true)\n",
      " |    |-- 1888: string (nullable = true)\n",
      " |    |-- 1889: string (nullable = true)\n",
      " |    |-- 1890: string (nullable = true)\n",
      " |    |-- 1891: string (nullable = true)\n",
      " |    |-- 1892: string (nullable = true)\n",
      " |    |-- 1893: string (nullable = true)\n",
      " |    |-- 1894: string (nullable = true)\n",
      " |    |-- 1895: string (nullable = true)\n",
      " |    |-- 1896: string (nullable = true)\n",
      " |    |-- 1897: string (nullable = true)\n",
      " |    |-- 1898: string (nullable = true)\n",
      " |    |-- 1899: string (nullable = true)\n",
      " |    |-- 1900: string (nullable = true)\n",
      " |    |-- 1901: string (nullable = true)\n",
      " |    |-- 1902: string (nullable = true)\n",
      " |    |-- 1903: string (nullable = true)\n",
      " |    |-- 1904: string (nullable = true)\n",
      " |    |-- 1905: string (nullable = true)\n",
      " |    |-- 1906: string (nullable = true)\n",
      " |    |-- 1907: string (nullable = true)\n",
      " |    |-- 1908: string (nullable = true)\n",
      " |    |-- 1909: string (nullable = true)\n",
      " |    |-- 1910: string (nullable = true)\n",
      " |    |-- 1911: string (nullable = true)\n",
      " |    |-- 1912: string (nullable = true)\n",
      " |    |-- 1913: string (nullable = true)\n",
      " |    |-- 1914: string (nullable = true)\n",
      " |    |-- 1915: string (nullable = true)\n",
      " |    |-- 1916: string (nullable = true)\n",
      " |    |-- 1917: string (nullable = true)\n",
      " |    |-- 1918: string (nullable = true)\n",
      " |    |-- 1919: string (nullable = true)\n",
      " |    |-- 1920: string (nullable = true)\n",
      " |    |-- 1921: string (nullable = true)\n",
      " |    |-- 1922: string (nullable = true)\n",
      " |    |-- 1923: string (nullable = true)\n",
      " |    |-- 1924: string (nullable = true)\n",
      " |    |-- 1925: string (nullable = true)\n",
      " |    |-- 1926: string (nullable = true)\n",
      " |    |-- 1927: string (nullable = true)\n",
      " |    |-- 1928: string (nullable = true)\n",
      " |    |-- 1929: string (nullable = true)\n",
      " |    |-- 1930: string (nullable = true)\n",
      " |    |-- 1931: string (nullable = true)\n",
      " |    |-- 1932: string (nullable = true)\n",
      " |    |-- 1933: string (nullable = true)\n",
      " |    |-- 1934: string (nullable = true)\n",
      " |    |-- 1935: string (nullable = true)\n",
      " |    |-- 1936: string (nullable = true)\n",
      " |    |-- 1937: string (nullable = true)\n",
      " |    |-- 1938: string (nullable = true)\n",
      " |    |-- 1939: string (nullable = true)\n",
      " |    |-- 1940: string (nullable = true)\n",
      " |    |-- 1941: string (nullable = true)\n",
      " |    |-- 1942: string (nullable = true)\n",
      " |    |-- 1943: string (nullable = true)\n",
      " |    |-- 1944: string (nullable = true)\n",
      " |    |-- 1945: string (nullable = true)\n",
      " |    |-- 1946: string (nullable = true)\n",
      " |    |-- 1947: string (nullable = true)\n",
      " |    |-- 1948: string (nullable = true)\n",
      " |    |-- 1949: string (nullable = true)\n",
      " |    |-- 1950: string (nullable = true)\n",
      " |    |-- 1951: string (nullable = true)\n",
      " |    |-- 1952: string (nullable = true)\n",
      " |    |-- 1953: string (nullable = true)\n",
      " |    |-- 1954: string (nullable = true)\n",
      " |    |-- 1955: string (nullable = true)\n",
      " |    |-- 1956: string (nullable = true)\n",
      " |    |-- 1957: string (nullable = true)\n",
      " |    |-- 1958: string (nullable = true)\n",
      " |    |-- 1959: string (nullable = true)\n",
      " |    |-- 1960: string (nullable = true)\n",
      " |    |-- 1961: string (nullable = true)\n",
      " |    |-- 1962: string (nullable = true)\n",
      " |    |-- 1963: string (nullable = true)\n",
      " |    |-- 1964: string (nullable = true)\n",
      " |    |-- 1965: string (nullable = true)\n",
      " |    |-- 1966: string (nullable = true)\n",
      " |    |-- 1967: string (nullable = true)\n",
      " |    |-- 1968: string (nullable = true)\n",
      " |    |-- 1969: string (nullable = true)\n",
      " |    |-- 1970: string (nullable = true)\n",
      " |    |-- 1971: string (nullable = true)\n",
      " |    |-- 1972: string (nullable = true)\n",
      " |    |-- 1973: string (nullable = true)\n",
      " |    |-- 1974: string (nullable = true)\n",
      " |    |-- 1975: string (nullable = true)\n",
      " |    |-- 1976: string (nullable = true)\n",
      " |    |-- 1977: string (nullable = true)\n",
      " |    |-- 1978: string (nullable = true)\n",
      " |    |-- 1979: string (nullable = true)\n",
      " |    |-- 1980: string (nullable = true)\n",
      " |    |-- 1981: string (nullable = true)\n",
      " |    |-- 1982: string (nullable = true)\n",
      " |    |-- 1983: string (nullable = true)\n",
      " |    |-- 1984: string (nullable = true)\n",
      " |    |-- 1985: string (nullable = true)\n",
      " |    |-- 1986: string (nullable = true)\n",
      " |    |-- 1987: string (nullable = true)\n",
      " |    |-- 1988: string (nullable = true)\n",
      " |    |-- 1989: string (nullable = true)\n",
      " |    |-- 1990: string (nullable = true)\n",
      " |    |-- 1991: string (nullable = true)\n",
      " |    |-- 1992: string (nullable = true)\n",
      " |    |-- 1993: string (nullable = true)\n",
      " |    |-- 1994: string (nullable = true)\n",
      " |    |-- 1995: string (nullable = true)\n",
      " |    |-- 1996: string (nullable = true)\n",
      " |    |-- 1997: string (nullable = true)\n",
      " |    |-- 1998: string (nullable = true)\n",
      " |    |-- 1999: string (nullable = true)\n",
      " |    |-- 2000: string (nullable = true)\n",
      " |    |-- 2001: string (nullable = true)\n",
      " |    |-- 2002: string (nullable = true)\n",
      " |    |-- 2003: string (nullable = true)\n",
      " |    |-- 2004: string (nullable = true)\n",
      " |    |-- 2005: string (nullable = true)\n",
      " |    |-- 2006: string (nullable = true)\n",
      " |    |-- 2007: string (nullable = true)\n",
      " |    |-- 2008: string (nullable = true)\n",
      " |    |-- 2009: string (nullable = true)\n",
      " |    |-- 2010: string (nullable = true)\n",
      " |    |-- 2011: string (nullable = true)\n",
      " |    |-- 2012: string (nullable = true)\n",
      " |    |-- 2013: string (nullable = true)\n",
      " |    |-- 2014: string (nullable = true)\n",
      " |    |-- 2015: string (nullable = true)\n",
      " |    |-- 2016: string (nullable = true)\n",
      " |-- description: struct (nullable = true)\n",
      " |    |-- base_period: string (nullable = true)\n",
      " |    |-- missing: long (nullable = true)\n",
      " |    |-- title: string (nullable = true)\n",
      " |    |-- units: string (nullable = true)\n",
      "\n"
     ]
    }
   ],
   "source": [
    "df4 = spark.read.json(\"1880-2016.json\")\n",
    "df4.printSchema()"
   ]
  },
  {
   "cell_type": "code",
   "execution_count": 170,
   "id": "e3431739",
   "metadata": {
    "scrolled": true
   },
   "outputs": [
    {
     "name": "stdout",
     "output_type": "stream",
     "text": [
      "-RECORD 0---------------------------\n",
      " data        | {-0.12, -0.09, -0... \n",
      " description | {1901-2000, -999,... \n",
      "\n"
     ]
    }
   ],
   "source": [
    "df4.select(\"data\", \"description\").show(vertical=True)"
   ]
  },
  {
   "cell_type": "code",
   "execution_count": null,
   "id": "59c98af7",
   "metadata": {},
   "outputs": [],
   "source": []
  }
 ],
 "metadata": {
  "kernelspec": {
   "display_name": "Python 3 (ipykernel)",
   "language": "python",
   "name": "python3"
  },
  "language_info": {
   "codemirror_mode": {
    "name": "ipython",
    "version": 3
   },
   "file_extension": ".py",
   "mimetype": "text/x-python",
   "name": "python",
   "nbconvert_exporter": "python",
   "pygments_lexer": "ipython3",
   "version": "3.9.4"
  }
 },
 "nbformat": 4,
 "nbformat_minor": 5
}
