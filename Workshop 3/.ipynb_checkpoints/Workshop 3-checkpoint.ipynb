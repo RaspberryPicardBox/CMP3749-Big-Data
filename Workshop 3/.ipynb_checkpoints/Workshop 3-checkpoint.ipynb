{
 "cells": [
  {
   "cell_type": "code",
   "execution_count": 3,
   "id": "1a400c63",
   "metadata": {},
   "outputs": [],
   "source": [
    "import findspark\n",
    "findspark.init()"
   ]
  },
  {
   "cell_type": "code",
   "execution_count": 6,
   "id": "3a6bcada",
   "metadata": {},
   "outputs": [],
   "source": [
    "import pyspark\n",
    "from pyspark.sql import SparkSession\n",
    "spark = SparkSession.builder.getOrCreate()"
   ]
  },
  {
   "cell_type": "code",
   "execution_count": 38,
   "id": "6c89b321",
   "metadata": {},
   "outputs": [
    {
     "name": "stdout",
     "output_type": "stream",
     "text": [
      "+------+--------------+---------------------------+------------+-----------------------+----------+-------------+-------------+\n",
      "|gender|race/ethnicity|parental level of education|       lunch|test preparation course|math score|reading score|writing score|\n",
      "+------+--------------+---------------------------+------------+-----------------------+----------+-------------+-------------+\n",
      "|female|       group B|          bachelor's degree|    standard|                   none|        72|           72|           74|\n",
      "|female|       group C|               some college|    standard|              completed|        69|           90|           88|\n",
      "|female|       group B|            master's degree|    standard|                   none|        90|           95|           93|\n",
      "|  male|       group A|         associate's degree|free/reduced|                   none|        47|           57|           44|\n",
      "|  male|       group C|               some college|    standard|                   none|        76|           78|           75|\n",
      "|female|       group B|         associate's degree|    standard|                   none|        71|           83|           78|\n",
      "|female|       group B|               some college|    standard|              completed|        88|           95|           92|\n",
      "|  male|       group B|               some college|free/reduced|                   none|        40|           43|           39|\n",
      "|  male|       group D|                high school|free/reduced|              completed|        64|           64|           67|\n",
      "|female|       group B|                high school|free/reduced|                   none|        38|           60|           50|\n",
      "|  male|       group C|         associate's degree|    standard|                   none|        58|           54|           52|\n",
      "|  male|       group D|         associate's degree|    standard|                   null|        40|           52|           43|\n",
      "|female|       group B|                high school|    standard|                   none|        65|           81|           73|\n",
      "|  male|       group A|               some college|    standard|              completed|        78|           72|           70|\n",
      "|female|       group A|            master's degree|    standard|                   none|        50|           53|           58|\n",
      "|female|       group C|           some high school|    standard|                   none|      null|           75|           78|\n",
      "|  male|       group C|                high school|    standard|                   none|        88|           89|           86|\n",
      "|female|       group B|           some high school|free/reduced|                   none|        18|           32|           28|\n",
      "|  male|       group C|            master's degree|free/reduced|              completed|        46|           42|           46|\n",
      "|female|       group C|         associate's degree|free/reduced|                   none|        54|           58|           61|\n",
      "+------+--------------+---------------------------+------------+-----------------------+----------+-------------+-------------+\n",
      "only showing top 20 rows\n",
      "\n"
     ]
    }
   ],
   "source": [
    "df = spark.read.csv(\"BrokenDataset.csv\", inferSchema=True, header=True)\n",
    "df.show()"
   ]
  },
  {
   "cell_type": "code",
   "execution_count": 23,
   "id": "d8119f27",
   "metadata": {},
   "outputs": [
    {
     "name": "stdout",
     "output_type": "stream",
     "text": [
      "gender\n",
      "15\n",
      "race/ethnicity\n",
      "0\n",
      "parental level of education\n",
      "9\n",
      "lunch\n",
      "8\n",
      "test preparation course\n",
      "11\n",
      "math score\n",
      "1\n",
      "reading score\n",
      "6\n",
      "writing score\n",
      "1\n"
     ]
    }
   ],
   "source": [
    "for header in df.columns:\n",
    "    print(header)\n",
    "    print(df.where(df[header].isNull()).count())"
   ]
  },
  {
   "cell_type": "code",
   "execution_count": 39,
   "id": "551241f2",
   "metadata": {},
   "outputs": [
    {
     "name": "stdout",
     "output_type": "stream",
     "text": [
      "Before:  1000\n",
      "After:  960\n"
     ]
    }
   ],
   "source": [
    "print(\"Before: \", df.count())\n",
    "df1 = df.dropna()\n",
    "print(\"After: \",df1.count())"
   ]
  },
  {
   "cell_type": "code",
   "execution_count": 41,
   "id": "748314f4",
   "metadata": {},
   "outputs": [
    {
     "name": "stdout",
     "output_type": "stream",
     "text": [
      "+------+--------------+---------------------------+-----------------------+----------+-------------+-------------+\n",
      "|gender|race/ethnicity|parental level of education|test preparation course|math score|reading score|writing score|\n",
      "+------+--------------+---------------------------+-----------------------+----------+-------------+-------------+\n",
      "|female|       group B|          bachelor's degree|                   none|        72|           72|           74|\n",
      "|female|       group C|               some college|              completed|        69|           90|           88|\n",
      "|female|       group B|            master's degree|                   none|        90|           95|           93|\n",
      "|  male|       group A|         associate's degree|                   none|        47|           57|           44|\n",
      "|  male|       group C|               some college|                   none|        76|           78|           75|\n",
      "|female|       group B|         associate's degree|                   none|        71|           83|           78|\n",
      "|female|       group B|               some college|              completed|        88|           95|           92|\n",
      "|  male|       group B|               some college|                   none|        40|           43|           39|\n",
      "|  male|       group D|                high school|              completed|        64|           64|           67|\n",
      "|female|       group B|                high school|                   none|        38|           60|           50|\n",
      "|  male|       group C|         associate's degree|                   none|        58|           54|           52|\n",
      "|  male|       group D|         associate's degree|                   null|        40|           52|           43|\n",
      "|female|       group B|                high school|                   none|        65|           81|           73|\n",
      "|  male|       group A|               some college|              completed|        78|           72|           70|\n",
      "|female|       group A|            master's degree|                   none|        50|           53|           58|\n",
      "|female|       group C|           some high school|                   none|      null|           75|           78|\n",
      "|  male|       group C|                high school|                   none|        88|           89|           86|\n",
      "|female|       group B|           some high school|                   none|        18|           32|           28|\n",
      "|  male|       group C|            master's degree|              completed|        46|           42|           46|\n",
      "|female|       group C|         associate's degree|                   none|        54|           58|           61|\n",
      "+------+--------------+---------------------------+-----------------------+----------+-------------+-------------+\n",
      "only showing top 20 rows\n",
      "\n"
     ]
    }
   ],
   "source": [
    "df2 = df.drop(\"lunch\")\n",
    "df2.show()"
   ]
  },
  {
   "cell_type": "code",
   "execution_count": 81,
   "id": "14325325",
   "metadata": {},
   "outputs": [
    {
     "name": "stdout",
     "output_type": "stream",
     "text": [
      "gender : StringType\n",
      "race/ethnicity : StringType\n",
      "parental level of education : StringType\n",
      "lunch : StringType\n",
      "test preparation course : StringType\n",
      "math score : IntegerType\n",
      "reading score : IntegerType\n",
      "writing score : IntegerType\n"
     ]
    }
   ],
   "source": [
    "for header in df.columns:\n",
    "    print(header, \":\", df1.select(header).schema[0].dataType)"
   ]
  },
  {
   "cell_type": "code",
   "execution_count": 89,
   "id": "e28e403d",
   "metadata": {},
   "outputs": [],
   "source": [
    "dfPanda = df1.toPandas()\n",
    "\n",
    "import matplotlib.pyplot as plt\n",
    "import numpy as np"
   ]
  },
  {
   "cell_type": "code",
   "execution_count": 106,
   "id": "20fabf28",
   "metadata": {},
   "outputs": [
    {
     "data": {
      "text/plain": [
       "(array([[0., 0., 0., ..., 1., 0., 0.],\n",
       "        [0., 0., 0., ..., 0., 0., 0.],\n",
       "        [0., 0., 0., ..., 0., 0., 1.],\n",
       "        ...,\n",
       "        [0., 0., 0., ..., 0., 0., 0.],\n",
       "        [0., 0., 0., ..., 0., 0., 0.],\n",
       "        [0., 0., 0., ..., 1., 0., 0.]]),\n",
       " array([  0.,  10.,  20.,  30.,  40.,  50.,  60.,  70.,  80.,  90., 100.]),\n",
       " <a list of 960 BarContainer objects>)"
      ]
     },
     "execution_count": 106,
     "metadata": {},
     "output_type": "execute_result"
    },
    {
     "data": {
      "image/png": "[encoded data removed]",
      "text/plain": [
       "<Figure size 432x288 with 1 Axes>"
      ]
     },
     "metadata": {
      "needs_background": "light"
     },
     "output_type": "display_data"
    }
   ],
   "source": [
    "plt.hist(df1.select(\"math score\").collect())"
   ]
  }
 ],
 "metadata": {
  "kernelspec": {
   "display_name": "Python 3 (ipykernel)",
   "language": "python",
   "name": "python3"
  },
  "language_info": {
   "codemirror_mode": {
    "name": "ipython",
    "version": 3
   },
   "file_extension": ".py",
   "mimetype": "text/x-python",
   "name": "python",
   "nbconvert_exporter": "python",
   "pygments_lexer": "ipython3",
   "version": "3.9.4"
  }
 },
 "nbformat": 4,
 "nbformat_minor": 5
}
